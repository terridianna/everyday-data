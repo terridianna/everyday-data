{
 "cells": [
  {
   "cell_type": "markdown",
   "metadata": {},
   "source": [
    "# Lesson 15\n",
    "Learning Objectives:\n",
    "+ Choropleth Maps\n",
    "+ FIPS Choropleth Maps"
   ]
  },
  {
   "cell_type": "markdown",
   "metadata": {},
   "source": [
    "## Notebook Setup\n",
    "1. Rename the notebook Firstname-Lastname-Lesson15\n",
    "2. Save the notebook\n",
    "3. Run the provided code cells"
   ]
  },
  {
   "cell_type": "markdown",
   "metadata": {},
   "source": [
    "## Submitting Notebook on Blackboard\n",
    "1. Save the notebook\n",
    "2. File > Download as > Notebook (.ipynb) \n",
    "3. On iPad: Save download to your Google Drive \n",
    "   On Laptop: Save download \n",
    "4. Upload notebook to Blackboard"
   ]
  },
  {
   "cell_type": "markdown",
   "metadata": {},
   "source": [
    "## Import Libraries"
   ]
  },
  {
   "cell_type": "code",
   "execution_count": null,
   "metadata": {},
   "outputs": [],
   "source": [
    "# importing plotly libraries to create interactive plots\n",
    "import plotly.graph_objs as go \n",
    "import plotly.figure_factory as ff  # this library is used for FIPS Choropleth Maps\n",
    "from plotly.offline import init_notebook_mode, iplot\n",
    "\n",
    "init_notebook_mode(connected = True)\n",
    "\n",
    "# importing pandas library to create dataframes\n",
    "import pandas as pd\n",
    "\n",
    "# importing numpy library for statistical analysis\n",
    "import numpy as np"
   ]
  },
  {
   "cell_type": "markdown",
   "metadata": {},
   "source": [
    "## Create Dataframe of 2018_us_pop.csv \n",
    "The notebook template and CSV files have been provided for you so the **path to file** is now just the file name. "
   ]
  },
  {
   "cell_type": "code",
   "execution_count": null,
   "metadata": {},
   "outputs": [],
   "source": [
    "# create dataframe and display 5 rows\n",
    "# df = pd.read_csv(\"path to file\")\n",
    "us_pop = pd.read_csv(\"2018_us_pop.csv\")\n",
    "us_pop.head()"
   ]
  },
  {
   "cell_type": "markdown",
   "metadata": {},
   "source": [
    "## Source\n",
    "US Census Bureau. \"Resident Population of The U.S. in 2018, by State (including The District of Columbia) (in Millions).\" Statista - The Statistics Portal, Statista, www.statista.com/statistics/183497/population-in-the-federal-states-of-the-us/\n",
    "\n",
    "US Census Bureau. “2017 FIPS Codes.” 2017 FIPS Codes, 24 May 2018, www.census.gov/geographies/reference-files/2017/demo/popest/2017-fips.html."
   ]
  }
 ],
 "metadata": {
  "kernelspec": {
   "display_name": "Python 3",
   "language": "python",
   "name": "python3"
  },
  "language_info": {
   "codemirror_mode": {
    "name": "ipython",
    "version": 3
   },
   "file_extension": ".py",
   "mimetype": "text/x-python",
   "name": "python",
   "nbconvert_exporter": "python",
   "pygments_lexer": "ipython3",
   "version": "3.7.2"
  }
 },
 "nbformat": 4,
 "nbformat_minor": 2
}
